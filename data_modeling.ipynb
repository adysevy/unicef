{
 "metadata": {
  "name": "",
  "signature": "sha256:54514aae875e06fc8bdda1245962c8a4fcdad8ef7911cdfeaa45cb10d20a037b"
 },
 "nbformat": 3,
 "nbformat_minor": 0,
 "worksheets": [
  {
   "cells": [
    {
     "cell_type": "code",
     "collapsed": false,
     "input": [
      "# -*- coding: utf-8 -*-\n",
      "%matplotlib inline\n",
      "\n",
      "import os\n",
      "from docx import Document\n",
      "from datetime import datetime\n",
      "\n",
      "dates = []\n",
      "file_names = []\n",
      "countries = []\n",
      "regions = []\n",
      "stories = []\n",
      "titles = []\n",
      "links = []\n",
      "\n",
      "regions_codes = {'GENERAL':'General',\\\n",
      "                 'CEE/CIS':'Central and Eastern Europe and the Commonwealth of Independent States',\\\n",
      "                 'EAP':'East Asia and Pacific',\\\n",
      "                 'EAPR':'East Asia and Pacific',\\\n",
      "                 'ESA':'Eastern and Southern Africa',\\\n",
      "                 'LAC':'Latin America and the Caribbean',\\\n",
      "                 'MENA':'Middle East and North Africa',\\\n",
      "                 'ROSA':'South Asia',\\\n",
      "                 'WCA':'West and Central Africa',\\\n",
      "                 'SA':'South Asia'}\n",
      "\n",
      "folder = 'OPSCEN Brief 2014/'\n",
      "# folder = 'test/'\n",
      "\n",
      "special_files = ['UNICEF OPSCEN Brief \u2013 29 December 2014.docx','UNICEF OPSCEN Brief \u2013 30 December 2014.docx','UNICEF OPSCEN Brief \u2013 31 December 2014.docx']\n",
      "\n",
      "flag_country = False\n",
      "flag_title = False\n",
      "flag_story = False\n",
      "curr_story = ''\n",
      "      \n",
      "for file_name in os.listdir(folder):\n",
      "    try:\n",
      "        f = open(folder+file_name,'rb')\n",
      "        document = Document(f)\n",
      "        for p in document.paragraphs:\n",
      "            \n",
      "            if p.text == '' or 'Disclaimer:' in p.text or 'The Brief is produced' in p.text:\n",
      "                    continue\n",
      "\n",
      "            if p.text in regions_codes:\n",
      "                curr_region = regions_codes[p.text]\n",
      "                flag_country = True\n",
      "                continue\n",
      "                \n",
      "            if 'http' in p.text:\n",
      "                regions.append(curr_region)\n",
      "                countries.append(curr_country)\n",
      "                titles.append(curr_title)\n",
      "                stories.append(curr_story)\n",
      "                file_names.append(file_name)\n",
      "                if file_name == 'UNICEF OPSCEN Brief \u2013 29 December 2014.docx':\n",
      "                    date = datetime(year=2014, month=12, day=29)\n",
      "                elif file_name == 'UNICEF OPSCEN Brief \u2013 30 December 2014.docx': \n",
      "                    date = datetime(year=2014, month=12, day=30)\n",
      "                elif file_name == 'UNICEF OPSCEN Brief \u2013 31 December 2014.docx':\n",
      "                    date = datetime(year=2014, month=12, day=31)\n",
      "                else:\n",
      "                    date = document.core_properties.modified\n",
      "\n",
      "                dates.append(date)\n",
      "                links.append(p.text)\n",
      "                flag_country = True\n",
      "                flag_title = False\n",
      "                curr_story = ''\n",
      "                continue\n",
      "                \n",
      "            if flag_country:\n",
      "                if len(p.text.split())< 4:\n",
      "                    curr_country = p.text\n",
      "                    flag_country = False\n",
      "                    flag_title = True\n",
      "                    continue\n",
      "                else:\n",
      "                    flag_country = False\n",
      "                    flag_title = True\n",
      "\n",
      "            if flag_title:\n",
      "                curr_title = p.text\n",
      "                flag_title = False\n",
      "                flag_story = True\n",
      "                continue\n",
      "                \n",
      "            if flag_story:\n",
      "                curr_story = curr_story + p.text\n",
      "                continue\n",
      "\n",
      "\n",
      "    except Exception as e:\n",
      "        print e\n",
      "\n",
      "    f.close()"
     ],
     "language": "python",
     "metadata": {},
     "outputs": [],
     "prompt_number": 21
    },
    {
     "cell_type": "code",
     "collapsed": false,
     "input": [
      "import pandas as pd\n",
      "\n",
      "df = pd.DataFrame({'region':regions,\\\n",
      "                   'country':countries,\\\n",
      "                   'title': titles ,\\\n",
      "                   'story':stories,\\\n",
      "                   'link': links,\\\n",
      "                   'file_name':file_names,\\\n",
      "                   'date':dates})\n"
     ],
     "language": "python",
     "metadata": {},
     "outputs": [],
     "prompt_number": 22
    },
    {
     "cell_type": "code",
     "collapsed": false,
     "input": [
      "from ner import extract_entities\n",
      "\n",
      "# use this if your computer cannot find java\n",
      "os.environ['JAVAHOME'] = 'C:/Program Files/Java/jdk1.8.0/bin/java.exe'\n",
      "\n",
      "# df['entities'] = df.story.apply(extract_entities)\n",
      "df.head(5).story.apply(extract_entities)"
     ],
     "language": "python",
     "metadata": {},
     "outputs": [
      {
       "metadata": {},
       "output_type": "pyout",
       "prompt_number": 6,
       "text": [
        "0    set([(Liberia, LOCATION), (Somalia, LOCATION),...\n",
        "1    set([(Coca-Cola, ORGANIZATION), (Pepsi, ORGANI...\n",
        "2    set([(Serbia, LOCATION), (EU, ORGANIZATION), (...\n",
        "3                        set([(UNICEF, ORGANIZATION)])\n",
        "4    set([(Tajikistan, LOCATION), (Gorno-Badakhshan...\n",
        "Name: story, dtype: object"
       ]
      }
     ],
     "prompt_number": 6
    },
    {
     "cell_type": "code",
     "collapsed": false,
     "input": [
      "df.link.unique()"
     ],
     "language": "python",
     "metadata": {},
     "outputs": [
      {
       "metadata": {},
       "output_type": "pyout",
       "prompt_number": 13,
       "text": [
        "array([ u'Reuters - http://www.trust.org/item/20140521041625-5i9hy/?source=fiOtherNews3 ',\n",
        "       u'Reuters - http://www.trust.org/item/20140521110131-di0qy/?source=fiOtherNews3',\n",
        "       u'http://www.aljazeera.com/news/europe/2014/05/balkan-flood-devastation-exceeds-war-damage-2014521143138991821.html',\n",
        "       ...,\n",
        "       u'Reuters - http://www.reuters.com/article/2014/08/11/us-centralafrica-seleka-idUSKBN0GB1MG20140811',\n",
        "       u'AFP - http://news.yahoo.com/c-africa-pm-vows-reconciliation-despite-rebel-snub-191543761.html',\n",
        "       u'BBC - http://www.bbc.com/news/world-africa-28749615'], dtype=object)"
       ]
      }
     ],
     "prompt_number": 13
    },
    {
     "cell_type": "code",
     "collapsed": false,
     "input": [
      "df.country.unique()"
     ],
     "language": "python",
     "metadata": {},
     "outputs": [
      {
       "metadata": {},
       "output_type": "pyout",
       "prompt_number": 14,
       "text": [
        "array([u'Across Regions ', u'Across CEE/CIS', u'Serbia', u'Tajikistan',\n",
        "       u'Turkey', u'Ukraine ', u'Across EAPR', u'China', u'Myanmar',\n",
        "       u'Thailand', u'Kenya', u'Malawi', u'Venezuela ', u'Egypt', u'Libya',\n",
        "       u'State of Palestine', u'Syria', u'Across ROSA', u'Afghanistan',\n",
        "       u'India', u'Pakistan', u'Mali', u'Nigeria', u'Across Regions',\n",
        "       u'Ukraine', u'Across EAP', u'Phillipines', u'Across LAC',\n",
        "       u'Bolivia', u'Brazil', u'Mexico', u'Across MENA',\n",
        "       u'State of Palestine/Israel', u'Iraq', u'Tunisia', u'            ',\n",
        "       u' ', u'Across WCA', u'Liberia', u'Across region', u'Bulgaria',\n",
        "       u'Papua New-Guinea', u'Philippines', u'South Sudan', u'Uganda',\n",
        "       u'Colombia', u'Iran', u'Lebanon', u'Nepal', u'Sri Lanka',\n",
        "       u'Mauritania', u'Serbia/Kosovo', u'Philippines ', u'Burundi',\n",
        "       u'Mozambique', u'South Sudan ', u'Haiti', u'Burkina Faso', u'CAR',\n",
        "       u'DRC', u'Niger', u'DR Congo/Rwanda', u'Ethiopia', u'Rwanda',\n",
        "       u'Somalia', u'Swaziland', u'El Salvador', u'Guyana', u'Paraguay',\n",
        "       u'Sudan', u'DR Congo', u'Guatemala', u'Algeria', u'Uganda ',\n",
        "       u'Gambia', u'\\nEAP', u'Madagascar', u'Venezuela', u'Israel',\n",
        "       u'Jordan', u'Yemen', u'Cameroon', u'Peru', u'Across SA',\n",
        "       u'Nicaragua', u'Central African Republic', u'Senegal',\n",
        "       u'Bosnia-Herzegovina ', u'Russia', u'ESAR', u'Saudi Arabia',\n",
        "       u'Pakistan ', u'WCAR', u'Across Region', u'Guinea',\n",
        "       u'South Sudan/Sudan', u'Cambodia', u'Indonesia', u'Across ESA',\n",
        "       u'Chile', u'Yemen ', u'Laos', u'Solomon Islands',\n",
        "       u'Dominican Republic', u'Myanmar ', u'Argentina', u'Afghanistan ',\n",
        "       u'CAR ', u'PNG', u'Egypt ', u'Bosnia Herzegovina', u'Zambia',\n",
        "       u'Sierra Leone', u'Ethiopia ', u'Lesotho', u'Mozambique ',\n",
        "       u'Nigeria ', u'EAP\\n', u'DPRK', u'Zimbabwe', u'Barbados',\n",
        "       u'Israel/State of Palestine', u'Cote d\\u2019Ivoire', u'Tanzania',\n",
        "       u'Bangladesh', u'Malaysia', u'Bulgaria ', u'Across MENA ',\n",
        "       u'Israel ', u'Botswana', u'Brazil ', u'Uruguay', u'Jerusalem',\n",
        "       u'Tunisia ', u'Benin', u'Ghana', u'Ecuador', u'DR Congo ', u'\\t',\n",
        "       u'Kuwait', u'Morocco', u'WCA\\n', u'Lao DPR', u'Solomon Islands ',\n",
        "       u'South Africa', u'Dominican Republic ', u'Guyana ', u'\\nLibya',\n",
        "       u'\\nROSA', u'United Nations', u'Bosnia and Herzegovina',\n",
        "       u'Uzbekistan ', u'DPR Korea', u'Bahrain', u'Across WAC', u'Namibia',\n",
        "       u'Zambia ', u'Cape Verde ', u'\\nAcross MENA',\n",
        "       u'Burying Ebola\\u2019s victims', u'Bosnia-Herzegovina',\n",
        "       u'Guinea-Bissau', u'Algeria ', u'Cuba', u'Maldives', u'\\nDR Congo',\n",
        "       u'Georgia', u'Romania', u'Lebanon ', u'CEE/ CIS', u'Serbia ',\n",
        "       u'Across CEE/CIS ', u'Macedonia', u'Honduras', u'  ',\n",
        "       u'Bosnia & Herzegovina', u'Indonasia', u'\\nESA', u'Togo', u'\\n',\n",
        "       u'Burundi/CAR', u'\\nYemen', u'Across WAC ', u'Across WCA ',\n",
        "       u'Vietnam', u'Guatemala ', u'WCAR\\n', u'Benin ', u'Fiji',\n",
        "       u'Mexico ', u'Japan', u'\\nState of Palestine', u'Libya ',\n",
        "       u'Equatorial Guinea', u'Romania ', u'Saudi Arabia ',\n",
        "       u'Somalia No title ', u'Brazil   No title ', u'No title', u'ESA\\n',\n",
        "       u'Madagascar ', u'\\nMENA', u'Sri Lanka ', u'Saudia Arabia',\n",
        "       u'\\nWCA', u'Panama', u'\\nCEE/CIS', u'Kyrgyzstan', u'Burkina Faso ',\n",
        "       u'Across LAC ', u'Iraq ', u'Crimea enforced disappearances',\n",
        "       u'Across regions', u'Japan ', u'Timor Leste', u'Jordan ',\n",
        "       u'Jerusalem/State of Palestine', u'India/Pakistan', u'Moldova ',\n",
        "       u'\\nAfghanistan', u'United Nations ', u'Moldova', u'Bahamas',\n",
        "       u'Jamaica', u'Across EAP ', u'\\nSudan/S. Sudan',\n",
        "       u'Bosnia & Herzegovina ', u'\\nCAR', u'Syria ', u'Tanzania ',\n",
        "       u'El Salvador ', u'Cambodia ', u'Djibouti', u'SA\\n', u'Cameroon ',\n",
        "       u'Somalia ', u'State Palestine/Israel ', u'India ', u'Liberia ',\n",
        "       u'DRAFT', u'Across West Africa', u'Gabon ', u'Sierra Leone ',\n",
        "       u'Uzbekistan', u'Colombia ', u'Belarus', u'Acrosa ESA', u'\\nEgypt ',\n",
        "       u'Bangladesh ', u'State of Palestine/Israel  ', u'Iraq\\t', u'EAP '], dtype=object)"
       ]
      }
     ],
     "prompt_number": 14
    },
    {
     "cell_type": "code",
     "collapsed": false,
     "input": [
      "df.region.unique()"
     ],
     "language": "python",
     "metadata": {},
     "outputs": [
      {
       "metadata": {},
       "output_type": "pyout",
       "prompt_number": 15,
       "text": [
        "array(['General',\n",
        "       'Central and Eastern Europe and the Commonwealth of Independent States',\n",
        "       'East Asia and Pacific', 'Eastern and Southern Africa',\n",
        "       'Latin America and the Caribbean', 'Middle East and North Africa',\n",
        "       'South Asia', 'West and Central Africa'], dtype=object)"
       ]
      }
     ],
     "prompt_number": 15
    },
    {
     "cell_type": "code",
     "collapsed": false,
     "input": [
      "df.to_csv('news_stories.csv', index = True, header = True, encoding='utf-8')"
     ],
     "language": "python",
     "metadata": {},
     "outputs": []
    },
    {
     "cell_type": "code",
     "collapsed": false,
     "input": [
      "#************* LDA *****************#\n",
      "from gensim import corpora, models, similarities\n",
      "from nltk import word_tokenize\n",
      "import re\n",
      "\n",
      "logging.basicConfig(format='%(asctime)s : %(levelname)s : %(message)s', level=logging.INFO)\n",
      "\n",
      "def check_token(token):\n",
      "    return len(token)>1 and not re.search('[^a-z]',token)\n",
      "\n",
      "stopwords = set('''said,people,a,about,above,after,again,against,all,am,an,and,any,are,aren't,as,at,be,because,been,before,being,below,between,both,but,by,can't,cannot,could,couldn't,did,didn't,do,does,doesn't,doing,don't,down,during,each,few,for,from,further,had,hadn't,has,hasn't,have,haven't,having,he,he'd,he'll,he's,her,here,here's,hers,herself,him,himself,his,how,how's,i,i'd,i'll,i'm,i've,if,in,into,is,isn't,it,it's,its,itself,let's,me,more,most,mustn't,my,myself,no,nor,not,of,off,on,once,only,or,other,ought,our,ours,ourselves,out,over,own,same,shan't,she,she'd,she'll,she's,should,shouldn't,so,some,such,than,that,that's,the,their,theirs,them,themselves,then,there,there's,these,they,they'd,they'll,they're,they've,this,those,through,to,too,under,until,up,very,was,wasn't,we,we'd,we'll,we're,we've,were,weren't,what,what's,when,when's,where,where's,which,while,who,who's,whom,why,why's,with,won't,would,wouldn't,you,you'd,you'll,you're,you've,your,yours,yourself,yourselves,a's,able,about,above,according,accordingly,across,actually,after,afterwards,again,against,ain't,all,allow,allows,almost,alone,along,already,also,although,always,am,among,amongst,an,and,another,any,anybody,anyhow,anyone,anything,anyway,anyways,anywhere,apart,appear,appreciate,appropriate,are,aren't,around,as,aside,ask,asking,associated,at,available,away,awfully,be,became,because,become,becomes,becoming,been,before,beforehand,behind,being,believe,below,beside,besides,best,better,between,beyond,both,brief,but,by,c'mon,c's,came,can,can't,cannot,cant,cause,causes,certain,certainly,changes,clearly,co,com,come,comes,concerning,consequently,consider,considering,contain,containing,contains,corresponding,could,couldn't,course,currently,definitely,described,despite,did,didn't,different,do,does,doesn't,doing,don't,done,down,downwards,during,each,edu,eg,eight,either,else,elsewhere,enough,entirely,especially,et,etc,even,ever,every,everybody,everyone,everything,everywhere,ex,exactly,example,except,far,few,fifth,first,five,followed,following,follows,for,former,formerly,forth,four,from,further,furthermore,get,gets,getting,given,gives,go,goes,going,gone,got,gotten,greetings,had,hadn't,happens,hardly,has,hasn't,have,haven't,having,he,he's,hello,help,hence,her,here,here's,hereafter,hereby,herein,hereupon,hers,herself,hi,him,himself,his,hither,hopefully,how,howbeit,however,i'd,i'll,i'm,i've,ie,if,ignored,immediate,in,inasmuch,inc,indeed,indicate,indicated,indicates,inner,insofar,instead,into,inward,is,isn't,it,it'd,it'll,it's,its,itself,just,keep,keeps,kept,know,known,knows,last,lately,later,latter,latterly,least,less,lest,let,let's,like,liked,likely,little,look,looking,looks,ltd,mainly,many,may,maybe,me,mean,meanwhile,merely,might,more,moreover,most,mostly,much,must,my,myself,name,namely,nd,near,nearly,necessary,need,needs,neither,never,nevertheless,new,next,nine,no,nobody,non,none,noone,nor,normally,not,nothing,novel,now,nowhere,obviously,of,off,often,oh,ok,okay,old,on,once,one,ones,only,onto,or,other,others,otherwise,ought,our,ours,ourselves,out,outside,over,overall,own,particular,particularly,per,perhaps,placed,please,plus,possible,presumably,probably,provides,que,quite,qv,rather,rd,re,really,reasonably,regarding,regardless,regards,relatively,respectively,right,said,same,saw,say,saying,says,second,secondly,see,seeing,seem,seemed,seeming,seems,seen,self,selves,sensible,sent,serious,seriously,seven,several,shall,she,should,shouldn't,since,six,so,some,somebody,somehow,someone,something,sometime,sometimes,somewhat,somewhere,soon,sorry,specified,specify,specifying,still,sub,such,sup,sure,t's,take,taken,tell,tends,th,than,thank,thanks,thanx,that,that's,thats,the,their,theirs,them,themselves,then,thence,there,there's,thereafter,thereby,therefore,therein,theres,thereupon,these,they,they'd,they'll,they're,they've,think,third,this,thorough,thoroughly,those,though,three,through,throughout,thru,thus,to,together,too,took,toward,towards,tried,tries,truly,try,trying,twice,two,un,under,unfortunately,unless,unlikely,until,unto,up,upon,us,use,used,useful,uses,using,usually,value,various,very,via,viz,vs,want,wants,was,wasn't,way,we,we'd,we'll,we're,we've,welcome,well,went,were,weren't,what,what's,whatever,when,whence,whenever,where,where's,whereafter,whereas,whereby,wherein,whereupon,wherever,whether,which,while,whither,who,who's,whoever,whole,whom,whose,why,will,willing,wish,with,within,without,won't,wonder,would,wouldn't,yes,yet,you,you'd,you'll,you're,you've,your,yours,yourself,yourselves,zero'''.split(','))\n",
      "                 \n",
      "texts = [[word for word in word_tokenize(story.lower()) if word not in stopwords and check_token(word)] for story in df.story]\n",
      "\n",
      "# remove words that appear less than min_occur\n",
      "min_occur = 1\n",
      "all_tokens = sum(texts, [])\n",
      "tokens_less = set(word for word in set(all_tokens) if all_tokens.count(word) < min_occur)\n",
      "texts = [[word for word in text if word not in tokens_less] for text in texts]\n",
      "# create a gensim dictionary\n",
      "dictionary = corpora.Dictionary(texts)\n",
      "# create a gensim corpus\n",
      "corpus = [dictionary.doc2bow(text) for text in texts]\n",
      "\n",
      "\n",
      "lda = models.ldamodel.LdaModel(corpus=corpus, id2word=dictionary, num_topics=6,iterations=1000,passes=5)"
     ],
     "language": "python",
     "metadata": {},
     "outputs": [],
     "prompt_number": 133
    },
    {
     "cell_type": "code",
     "collapsed": false,
     "input": [
      "for i,s in enumerate(lda.print_topics(10,num_words=8)):\n",
      "    print 'topic #{0}: {1}'.format(i,s)"
     ],
     "language": "python",
     "metadata": {},
     "outputs": [
      {
       "output_type": "stream",
       "stream": "stdout",
       "text": [
        "topic #0: 0.013*killed + 0.008*gaza + 0.007*israel + 0.006*police + 0.006*security + 0.006*israeli + 0.006*palestinian + 0.006*attack\n",
        "topic #1: 0.044*government + 0.034*minister + 0.033*prime + 0.033*african + 0.033*central + 0.033*republic + 0.022*country + 0.022*monday\n",
        "topic #2: 0.049*died + 0.035*outbreak + 0.034*guinea + 0.032*infected + 0.029*news + 0.028*liberia + 0.020*cases + 0.019*disease\n",
        "topic #3: 0.008*government + 0.007*killed + 0.006*state + 0.005*forces + 0.005*police + 0.005*president + 0.005*country + 0.005*security\n",
        "topic #4: 0.013*children + 0.008*million + 0.006*aid + 0.006*food + 0.005*year + 0.005*state + 0.004*humanitarian + 0.004*unicef\n",
        "topic #5: 0.050*liberian + 0.048*government + 0.040*ebola + 0.030*president + 0.026*meeting + 0.026*treat + 0.026*experimental + 0.026*treatments\n"
       ]
      }
     ],
     "prompt_number": 134
    },
    {
     "cell_type": "code",
     "collapsed": false,
     "input": [
      "story_id=2\n",
      "print df.story.values[story_id]\n",
      "print lda[corpus[story_id]]\n"
     ],
     "language": "python",
     "metadata": {},
     "outputs": [
      {
       "output_type": "stream",
       "stream": "stdout",
       "text": [
        "Officials in Bosnia and Serbia say floods that killed scores and displaced half a million will cost countries billions.  The cost of the recovery operation following devastating floods in the Balkans may amount to billions of dollars. Both Bosnia and Serbia said they will need international help, as EU and NATO officials visited affected areas on Wednesday to estimate damage.\n",
        "[(7, 0.92720365063539512), (8, 0.052281606306093138)]\n"
       ]
      }
     ],
     "prompt_number": 121
    },
    {
     "cell_type": "code",
     "collapsed": false,
     "input": [],
     "language": "python",
     "metadata": {},
     "outputs": []
    }
   ],
   "metadata": {}
  }
 ]
}