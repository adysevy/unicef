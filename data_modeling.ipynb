{
 "metadata": {
  "name": "",
  "signature": "sha256:97a553cc491d9bf2356bfbe9458d44db285a00430ba01c4e4ce4322d197ac775"
 },
 "nbformat": 3,
 "nbformat_minor": 0,
 "worksheets": [
  {
   "cells": [
    {
     "cell_type": "code",
     "collapsed": false,
     "input": [
      "# -*- coding: utf-8 -*-\n",
      "%matplotlib inline\n",
      "\n",
      "import os\n",
      "from docx import Document\n",
      "from datetime import datetime\n",
      "\n",
      "dates = []\n",
      "file_names = []\n",
      "countries = []\n",
      "regions = []\n",
      "stories = []\n",
      "titles = []\n",
      "links = []\n",
      "\n",
      "regions_codes = {'GENERAL':'General',\\\n",
      "                 'CEE/CIS':'Central and Eastern Europe and the Commonwealth of Independent States',\\\n",
      "                 'EAP':'East Asia and Pacific',\\\n",
      "                 'EAPR':'East Asia and Pacific',\\\n",
      "                 'ESA':'Eastern and Southern Africa',\\\n",
      "                 'LAC':'Latin America and the Caribbean',\\\n",
      "                 'MENA':'Middle East and North Africa',\\\n",
      "                 'ROSA':'South Asia',\\\n",
      "                 'WCA':'West and Central Africa',\\\n",
      "                 'SA':'South Asia'}\n",
      "\n",
      "folder = 'OPSCEN Brief 2014/'\n",
      "# folder = 'test/'\n",
      "\n",
      "special_files = ['UNICEF OPSCEN Brief \u2013 29 December 2014.docx','UNICEF OPSCEN Brief \u2013 30 December 2014.docx','UNICEF OPSCEN Brief \u2013 31 December 2014.docx']\n",
      "\n",
      "flag_country = False\n",
      "flag_title = False\n",
      "flag_story = False\n",
      "curr_story = ''\n",
      "      \n",
      "for file_name in os.listdir(folder):\n",
      "    try:\n",
      "        f = open(folder+file_name,'rb')\n",
      "        document = Document(f)\n",
      "        for p in document.paragraphs:\n",
      "            \n",
      "            if p.text == '' or 'Disclaimer:' in p.text or 'The Brief is produced' in p.text:\n",
      "                    continue\n",
      "\n",
      "            if p.text in regions_codes:\n",
      "                curr_region = regions_codes[p.text]\n",
      "                flag_country = True\n",
      "                continue\n",
      "                \n",
      "            if 'http' in p.text:\n",
      "                regions.append(curr_region)\n",
      "                countries.append(curr_country)\n",
      "                titles.append(curr_title)\n",
      "                stories.append(curr_story)\n",
      "                file_names.append(file_name)\n",
      "                if file_name == 'UNICEF OPSCEN Brief \u2013 29 December 2014.docx':\n",
      "                    date = datetime(year=2014, month=12, day=29)\n",
      "                elif file_name == 'UNICEF OPSCEN Brief \u2013 30 December 2014.docx': \n",
      "                    date = datetime(year=2014, month=12, day=30)\n",
      "                elif file_name == 'UNICEF OPSCEN Brief \u2013 31 December 2014.docx':\n",
      "                    date = datetime(year=2014, month=12, day=31)\n",
      "                else:\n",
      "                    date = document.core_properties.modified\n",
      "\n",
      "                dates.append(date)\n",
      "                links.append(p.text)\n",
      "                flag_country = True\n",
      "                flag_title = False\n",
      "                curr_story = ''\n",
      "                continue\n",
      "                \n",
      "            if flag_country:\n",
      "                if len(p.text.split())< 4:\n",
      "                    curr_country = p.text\n",
      "                    flag_country = False\n",
      "                    flag_title = True\n",
      "                    continue\n",
      "                else:\n",
      "                    flag_country = False\n",
      "                    flag_title = True\n",
      "\n",
      "            if flag_title:\n",
      "                curr_title = p.text\n",
      "                flag_title = False\n",
      "                flag_story = True\n",
      "                continue\n",
      "                \n",
      "            if flag_story:\n",
      "                curr_story = curr_story + p.text\n",
      "                continue\n",
      "\n",
      "\n",
      "    except Exception as e:\n",
      "        print e\n",
      "\n",
      "    f.close()"
     ],
     "language": "python",
     "metadata": {},
     "outputs": [],
     "prompt_number": 3
    },
    {
     "cell_type": "code",
     "collapsed": false,
     "input": [
      "import pandas as pd\n",
      "\n",
      "df = pd.DataFrame({'region':regions,\\\n",
      "                   'country':countries,\\\n",
      "                   'title': titles ,\\\n",
      "                   'story':stories,\\\n",
      "                   'link': links,\\\n",
      "                   'file_name':file_names,\\\n",
      "                   'date':dates})\n"
     ],
     "language": "python",
     "metadata": {},
     "outputs": [],
     "prompt_number": 4
    },
    {
     "cell_type": "code",
     "collapsed": false,
     "input": [
      "from ner import extract_entities\n",
      "\n",
      "# use this if your computer cannot find java\n",
      "# os.environ['JAVAHOME'] = 'C:/Program Files/Java/jdk1.8.0/bin/java.exe'\n",
      "\n",
      "# df['entities'] = df.story.apply(extract_entities)\n",
      "df.head(5).story.apply(extract_entities)"
     ],
     "language": "python",
     "metadata": {},
     "outputs": [
      {
       "metadata": {},
       "output_type": "pyout",
       "prompt_number": 5,
       "text": [
        "0    set([(Liberia, LOCATION), (Somalia, LOCATION),...\n",
        "1    set([(Coca-Cola, ORGANIZATION), (Pepsi, ORGANI...\n",
        "2    set([(Serbia, LOCATION), (EU, ORGANIZATION), (...\n",
        "3                        set([(UNICEF, ORGANIZATION)])\n",
        "4    set([(Tajikistan, LOCATION), (Gorno-Badakhshan...\n",
        "Name: story, dtype: object"
       ]
      }
     ],
     "prompt_number": 5
    },
    {
     "cell_type": "code",
     "collapsed": false,
     "input": [
      "df.link.unique()"
     ],
     "language": "python",
     "metadata": {},
     "outputs": [
      {
       "metadata": {},
       "output_type": "pyout",
       "prompt_number": 6,
       "text": [
        "array([ u'Reuters - http://www.trust.org/item/20140521041625-5i9hy/?source=fiOtherNews3 ',\n",
        "       u'Reuters - http://www.trust.org/item/20140521110131-di0qy/?source=fiOtherNews3',\n",
        "       u'http://www.aljazeera.com/news/europe/2014/05/balkan-flood-devastation-exceeds-war-damage-2014521143138991821.html',\n",
        "       ...,\n",
        "       u'Reuters - http://www.reuters.com/article/2014/08/11/us-centralafrica-seleka-idUSKBN0GB1MG20140811',\n",
        "       u'AFP - http://news.yahoo.com/c-africa-pm-vows-reconciliation-despite-rebel-snub-191543761.html',\n",
        "       u'BBC - http://www.bbc.com/news/world-africa-28749615'], dtype=object)"
       ]
      }
     ],
     "prompt_number": 6
    },
    {
     "cell_type": "code",
     "collapsed": false,
     "input": [
      "df.country.unique()"
     ],
     "language": "python",
     "metadata": {},
     "outputs": [
      {
       "metadata": {},
       "output_type": "pyout",
       "prompt_number": 7,
       "text": [
        "array([u'Across Regions ', u'Across CEE/CIS', u'Serbia', u'Tajikistan',\n",
        "       u'Turkey', u'Ukraine ', u'Across EAPR', u'China', u'Myanmar',\n",
        "       u'Thailand', u'Kenya', u'Malawi', u'Venezuela ', u'Egypt', u'Libya',\n",
        "       u'State of Palestine', u'Syria', u'Across ROSA', u'Afghanistan',\n",
        "       u'India', u'Pakistan', u'Mali', u'Nigeria', u'Across Regions',\n",
        "       u'Ukraine', u'Across EAP', u'Phillipines', u'Across LAC',\n",
        "       u'Bolivia', u'Brazil', u'Mexico', u'Across MENA',\n",
        "       u'State of Palestine/Israel', u'Iraq', u'Tunisia', u'            ',\n",
        "       u' ', u'Across WCA', u'Liberia', u'Across region', u'Bulgaria',\n",
        "       u'Papua New-Guinea', u'Philippines', u'South Sudan', u'Uganda',\n",
        "       u'Colombia', u'Iran', u'Lebanon', u'Nepal', u'Sri Lanka',\n",
        "       u'Mauritania', u'Serbia/Kosovo', u'Philippines ', u'Burundi',\n",
        "       u'Mozambique', u'South Sudan ', u'Haiti', u'Burkina Faso', u'CAR',\n",
        "       u'DRC', u'Niger', u'DR Congo/Rwanda', u'Ethiopia', u'Rwanda',\n",
        "       u'Somalia', u'Swaziland', u'El Salvador', u'Guyana', u'Paraguay',\n",
        "       u'Sudan', u'DR Congo', u'Guatemala', u'Algeria', u'Uganda ',\n",
        "       u'Gambia', u'\\nEAP', u'Madagascar', u'Venezuela', u'Israel',\n",
        "       u'Jordan', u'Yemen', u'Cameroon', u'Peru', u'Across SA',\n",
        "       u'Nicaragua', u'Central African Republic', u'Senegal',\n",
        "       u'Bosnia-Herzegovina ', u'Russia', u'ESAR', u'Saudi Arabia',\n",
        "       u'Pakistan ', u'WCAR', u'Across Region', u'Guinea',\n",
        "       u'South Sudan/Sudan', u'Cambodia', u'Indonesia', u'Across ESA',\n",
        "       u'Chile', u'Yemen ', u'Laos', u'Solomon Islands',\n",
        "       u'Dominican Republic', u'Myanmar ', u'Argentina', u'Afghanistan ',\n",
        "       u'CAR ', u'PNG', u'Egypt ', u'Bosnia Herzegovina', u'Zambia',\n",
        "       u'Sierra Leone', u'Ethiopia ', u'Lesotho', u'Mozambique ',\n",
        "       u'Nigeria ', u'EAP\\n', u'DPRK', u'Zimbabwe', u'Barbados',\n",
        "       u'Israel/State of Palestine', u'Cote d\\u2019Ivoire', u'Tanzania',\n",
        "       u'Bangladesh', u'Malaysia', u'Bulgaria ', u'Across MENA ',\n",
        "       u'Israel ', u'Botswana', u'Brazil ', u'Uruguay', u'Jerusalem',\n",
        "       u'Tunisia ', u'Benin', u'Ghana', u'Ecuador', u'DR Congo ', u'\\t',\n",
        "       u'Kuwait', u'Morocco', u'WCA\\n', u'Lao DPR', u'Solomon Islands ',\n",
        "       u'South Africa', u'Dominican Republic ', u'Guyana ', u'\\nLibya',\n",
        "       u'\\nROSA', u'United Nations', u'Bosnia and Herzegovina',\n",
        "       u'Uzbekistan ', u'DPR Korea', u'Bahrain', u'Across WAC', u'Namibia',\n",
        "       u'Zambia ', u'Cape Verde ', u'\\nAcross MENA',\n",
        "       u'Burying Ebola\\u2019s victims', u'Bosnia-Herzegovina',\n",
        "       u'Guinea-Bissau', u'Algeria ', u'Cuba', u'Maldives', u'\\nDR Congo',\n",
        "       u'Georgia', u'Romania', u'Lebanon ', u'CEE/ CIS', u'Serbia ',\n",
        "       u'Across CEE/CIS ', u'Macedonia', u'Honduras', u'  ',\n",
        "       u'Bosnia & Herzegovina', u'Indonasia', u'\\nESA', u'Togo', u'\\n',\n",
        "       u'Burundi/CAR', u'\\nYemen', u'Across WAC ', u'Across WCA ',\n",
        "       u'Vietnam', u'Guatemala ', u'WCAR\\n', u'Benin ', u'Fiji',\n",
        "       u'Mexico ', u'Japan', u'\\nState of Palestine', u'Libya ',\n",
        "       u'Equatorial Guinea', u'Romania ', u'Saudi Arabia ',\n",
        "       u'Somalia No title ', u'Brazil   No title ', u'No title', u'ESA\\n',\n",
        "       u'Madagascar ', u'\\nMENA', u'Sri Lanka ', u'Saudia Arabia',\n",
        "       u'\\nWCA', u'Panama', u'\\nCEE/CIS', u'Kyrgyzstan', u'Burkina Faso ',\n",
        "       u'Across LAC ', u'Iraq ', u'Crimea enforced disappearances',\n",
        "       u'Across regions', u'Japan ', u'Timor Leste', u'Jordan ',\n",
        "       u'Jerusalem/State of Palestine', u'India/Pakistan', u'Moldova ',\n",
        "       u'\\nAfghanistan', u'United Nations ', u'Moldova', u'Bahamas',\n",
        "       u'Jamaica', u'Across EAP ', u'\\nSudan/S. Sudan',\n",
        "       u'Bosnia & Herzegovina ', u'\\nCAR', u'Syria ', u'Tanzania ',\n",
        "       u'El Salvador ', u'Cambodia ', u'Djibouti', u'SA\\n', u'Cameroon ',\n",
        "       u'Somalia ', u'State Palestine/Israel ', u'India ', u'Liberia ',\n",
        "       u'DRAFT', u'Across West Africa', u'Gabon ', u'Sierra Leone ',\n",
        "       u'Uzbekistan', u'Colombia ', u'Belarus', u'Acrosa ESA', u'\\nEgypt ',\n",
        "       u'Bangladesh ', u'State of Palestine/Israel  ', u'Iraq\\t', u'EAP '], dtype=object)"
       ]
      }
     ],
     "prompt_number": 7
    },
    {
     "cell_type": "code",
     "collapsed": false,
     "input": [
      "df.region.unique()"
     ],
     "language": "python",
     "metadata": {},
     "outputs": [
      {
       "metadata": {},
       "output_type": "pyout",
       "prompt_number": 8,
       "text": [
        "array(['General',\n",
        "       'Central and Eastern Europe and the Commonwealth of Independent States',\n",
        "       'East Asia and Pacific', 'Eastern and Southern Africa',\n",
        "       'Latin America and the Caribbean', 'Middle East and North Africa',\n",
        "       'South Asia', 'West and Central Africa'], dtype=object)"
       ]
      }
     ],
     "prompt_number": 8
    },
    {
     "cell_type": "code",
     "collapsed": false,
     "input": [
      "df.to_csv('news_stories.csv', index = True, header = True, encoding='utf-8')"
     ],
     "language": "python",
     "metadata": {},
     "outputs": [],
     "prompt_number": 9
    },
    {
     "cell_type": "code",
     "collapsed": false,
     "input": [
      "#************* LDA *****************#\n",
      "from gensim import corpora, models, similarities\n",
      "from nltk import word_tokenize\n",
      "import re\n",
      "\n",
      "# logging.basicConfig(format='%(asctime)s : %(levelname)s : %(message)s', level=logging.INFO)\n",
      "\n",
      "def check_token(token):\n",
      "    return len(token)>1 and not re.search('[^a-z]',token)\n",
      "\n",
      "stopwords = set('''said,people,a,about,above,after,again,against,all,am,an,and,any,are,aren't,as,at,be,because,been,before,being,below,between,both,but,by,can't,cannot,could,couldn't,did,didn't,do,does,doesn't,doing,don't,down,during,each,few,for,from,further,had,hadn't,has,hasn't,have,haven't,having,he,he'd,he'll,he's,her,here,here's,hers,herself,him,himself,his,how,how's,i,i'd,i'll,i'm,i've,if,in,into,is,isn't,it,it's,its,itself,let's,me,more,most,mustn't,my,myself,no,nor,not,of,off,on,once,only,or,other,ought,our,ours,ourselves,out,over,own,same,shan't,she,she'd,she'll,she's,should,shouldn't,so,some,such,than,that,that's,the,their,theirs,them,themselves,then,there,there's,these,they,they'd,they'll,they're,they've,this,those,through,to,too,under,until,up,very,was,wasn't,we,we'd,we'll,we're,we've,were,weren't,what,what's,when,when's,where,where's,which,while,who,who's,whom,why,why's,with,won't,would,wouldn't,you,you'd,you'll,you're,you've,your,yours,yourself,yourselves,a's,able,about,above,according,accordingly,across,actually,after,afterwards,again,against,ain't,all,allow,allows,almost,alone,along,already,also,although,always,am,among,amongst,an,and,another,any,anybody,anyhow,anyone,anything,anyway,anyways,anywhere,apart,appear,appreciate,appropriate,are,aren't,around,as,aside,ask,asking,associated,at,available,away,awfully,be,became,because,become,becomes,becoming,been,before,beforehand,behind,being,believe,below,beside,besides,best,better,between,beyond,both,brief,but,by,c'mon,c's,came,can,can't,cannot,cant,cause,causes,certain,certainly,changes,clearly,co,com,come,comes,concerning,consequently,consider,considering,contain,containing,contains,corresponding,could,couldn't,course,currently,definitely,described,despite,did,didn't,different,do,does,doesn't,doing,don't,done,down,downwards,during,each,edu,eg,eight,either,else,elsewhere,enough,entirely,especially,et,etc,even,ever,every,everybody,everyone,everything,everywhere,ex,exactly,example,except,far,few,fifth,first,five,followed,following,follows,for,former,formerly,forth,four,from,further,furthermore,get,gets,getting,given,gives,go,goes,going,gone,got,gotten,greetings,had,hadn't,happens,hardly,has,hasn't,have,haven't,having,he,he's,hello,help,hence,her,here,here's,hereafter,hereby,herein,hereupon,hers,herself,hi,him,himself,his,hither,hopefully,how,howbeit,however,i'd,i'll,i'm,i've,ie,if,ignored,immediate,in,inasmuch,inc,indeed,indicate,indicated,indicates,inner,insofar,instead,into,inward,is,isn't,it,it'd,it'll,it's,its,itself,just,keep,keeps,kept,know,known,knows,last,lately,later,latter,latterly,least,less,lest,let,let's,like,liked,likely,little,look,looking,looks,ltd,mainly,many,may,maybe,me,mean,meanwhile,merely,might,more,moreover,most,mostly,much,must,my,myself,name,namely,nd,near,nearly,necessary,need,needs,neither,never,nevertheless,new,next,nine,no,nobody,non,none,noone,nor,normally,not,nothing,novel,now,nowhere,obviously,of,off,often,oh,ok,okay,old,on,once,one,ones,only,onto,or,other,others,otherwise,ought,our,ours,ourselves,out,outside,over,overall,own,particular,particularly,per,perhaps,placed,please,plus,possible,presumably,probably,provides,que,quite,qv,rather,rd,re,really,reasonably,regarding,regardless,regards,relatively,respectively,right,said,same,saw,say,saying,says,second,secondly,see,seeing,seem,seemed,seeming,seems,seen,self,selves,sensible,sent,serious,seriously,seven,several,shall,she,should,shouldn't,since,six,so,some,somebody,somehow,someone,something,sometime,sometimes,somewhat,somewhere,soon,sorry,specified,specify,specifying,still,sub,such,sup,sure,t's,take,taken,tell,tends,th,than,thank,thanks,thanx,that,that's,thats,the,their,theirs,them,themselves,then,thence,there,there's,thereafter,thereby,therefore,therein,theres,thereupon,these,they,they'd,they'll,they're,they've,think,third,this,thorough,thoroughly,those,though,three,through,throughout,thru,thus,to,together,too,took,toward,towards,tried,tries,truly,try,trying,twice,two,un,under,unfortunately,unless,unlikely,until,unto,up,upon,us,use,used,useful,uses,using,usually,value,various,very,via,viz,vs,want,wants,was,wasn't,way,we,we'd,we'll,we're,we've,welcome,well,went,were,weren't,what,what's,whatever,when,whence,whenever,where,where's,whereafter,whereas,whereby,wherein,whereupon,wherever,whether,which,while,whither,who,who's,whoever,whole,whom,whose,why,will,willing,wish,with,within,without,won't,wonder,would,wouldn't,yes,yet,you,you'd,you'll,you're,you've,your,yours,yourself,yourselves,zero'''.split(','))\n",
      "                 \n",
      "texts = [[word for word in word_tokenize(story.lower()) if word not in stopwords and check_token(word)] for story in df.story]\n",
      "\n",
      "# remove words that appear less than min_occur\n",
      "min_occur = 1\n",
      "all_tokens = sum(texts, [])\n",
      "tokens_less = set(word for word in set(all_tokens) if all_tokens.count(word) < min_occur)\n",
      "texts = [[word for word in text if word not in tokens_less] for text in texts]\n",
      "# create a gensim dictionary\n",
      "dictionary = corpora.Dictionary(texts)\n",
      "# create a gensim corpus\n",
      "corpus = [dictionary.doc2bow(text) for text in texts]\n",
      "\n",
      "\n",
      "lda = models.ldamodel.LdaModel(corpus=corpus, id2word=dictionary, num_topics=6,iterations=1000,passes=5)"
     ],
     "language": "python",
     "metadata": {},
     "outputs": []
    },
    {
     "cell_type": "code",
     "collapsed": false,
     "input": [
      "for i,s in enumerate(lda.print_topics(10,num_words=80)):\n",
      "    print 'topic #{0}: {1}'.format(i,s)\n",
      "    print"
     ],
     "language": "python",
     "metadata": {},
     "outputs": [
      {
       "output_type": "stream",
       "stream": "stdout",
       "text": [
        "topic #0: 0.013*killed + 0.008*gaza + 0.007*israel + 0.006*police + 0.006*security + 0.006*israeli + 0.006*palestinian + 0.006*attack + 0.005*militants + 0.005*city + 0.004*military + 0.004*group + 0.004*officials + 0.004*forces + 0.004*tuesday + 0.004*hamas + 0.004*capital + 0.003*car + 0.003*palestinians + 0.003*area + 0.003*wounded + 0.003*monday + 0.003*official + 0.003*statement + 0.003*attacks + 0.003*fighting + 0.003*killing + 0.003*army + 0.003*country + 0.003*government + 0.003*sources + 0.003*wednesday + 0.003*strip + 0.003*spokesman + 0.003*thursday + 0.003*clashes + 0.002*west + 0.002*bomb + 0.002*fire + 0.002*injured + 0.002*minister + 0.002*saturday + 0.002*dead + 0.002*state + 0.002*day + 0.002*including + 0.002*islamist + 0.002*president + 0.002*province + 0.002*sunday + 0.002*soldiers + 0.002*ministry + 0.002*suicide + 0.002*town + 0.002*air + 0.002*taliban + 0.002*southern + 0.002*international + 0.002*egypt + 0.002*days + 0.002*bank + 0.002*told + 0.002*foreign + 0.002*members + 0.002*egyptian + 0.002*violence + 0.002*leader + 0.002*protesters + 0.002*workers + 0.002*troops + 0.002*libya + 0.002*local + 0.002*civilians + 0.002*children + 0.002*end + 0.002*fighters + 0.002*offensive + 0.002*fired + 0.002*tripoli + 0.002*reported\n",
        "\n",
        "topic #1: 0.044*government + 0.034*minister + 0.033*prime + 0.033*african + 0.033*central + 0.033*republic + 0.022*country + 0.022*monday + 0.022*violence + 0.022*rebels + 0.022*part + 0.022*sunday + 0.022*muslim + 0.021*named + 0.021*forming + 0.021*mahamat + 0.020*kamoun + 0.012*president + 0.011*elections + 0.011*end + 0.011*deal + 0.011*crisis + 0.011*year + 0.011*thousands + 0.011*national + 0.011*nation + 0.011*interim + 0.011*seleka + 0.011*million + 0.011*ceasefire + 0.011*month + 0.011*ethnic + 0.011*unity + 0.011*sectarian + 0.011*bid + 0.011*security + 0.011*refused + 0.011*religious + 0.011*displaced + 0.011*humanitarian + 0.011*northern + 0.011*premier + 0.011*killed + 0.011*tasked + 0.011*vowed + 0.011*priority + 0.011*inclusive + 0.011*choice + 0.011*torn + 0.011*restoring + 0.010*samba + 0.010*panza + 0.010*reconcile + 0.010*rethink + 0.010*consulted + 0.010*guiding + 0.010*consensus + 0.010*catherine + 0.010*devastating + 0.010*tackling + 0.000*deadline + 0.000*cluster + 0.000*dominican + 0.000*embassies + 0.000*compaore + 0.000*yazidis + 0.000*blaise + 0.000*burundi + 0.000*extraordinary + 0.000*moment + 0.000*dr + 0.000*islah + 0.000*resolved + 0.000*collapse + 0.000*mujuru + 0.000*mugabe + 0.000*mahinda + 0.000*delegates + 0.000*paho + 0.000*nationwide\n",
        "\n",
        "topic #2: 0.049*died + 0.035*outbreak + 0.034*guinea + 0.032*infected + 0.029*news + 0.028*liberia + 0.020*cases + 0.019*disease + 0.018*sierra + 0.018*leone + 0.018*confirmed + 0.017*authorities + 0.017*months + 0.017*hit + 0.017*monday + 0.017*march + 0.017*high + 0.017*nigeria + 0.017*recorded + 0.017*figures + 0.017*release + 0.017*suspected + 0.017*earlier + 0.017*identified + 0.016*started + 0.016*fever + 0.016*includes + 0.016*request + 0.016*hosting + 0.016*tally + 0.016*specialists + 0.016*johnson + 0.016*bleeding + 0.016*updated + 0.016*vomiting + 0.016*ellen + 0.014*probable + 0.014*possibly + 0.014*ebola + 0.009*health + 0.006*west + 0.006*africa + 0.006*organization + 0.006*government + 0.005*world + 0.003*virus + 0.002*medical + 0.002*move + 0.002*ethics + 0.002*untested + 0.002*drug + 0.002*explore + 0.002*sirleaf + 0.002*zmapp + 0.002*met + 0.002*geneva + 0.001*receive + 0.001*meeting + 0.001*liberian + 0.001*deaths + 0.001*president + 0.001*epidemic + 0.001*spread + 0.001*patients + 0.000*chikungunya + 0.000*symptoms + 0.000*aids + 0.000*countries + 0.000*strain + 0.000*landmines + 0.000*infection + 0.000*malaria + 0.000*global + 0.000*corridor + 0.000*worst + 0.000*cholera + 0.000*ports + 0.000*mers + 0.000*vaccine + 0.000*tested\n",
        "\n",
        "topic #3: 0.008*government + 0.007*killed + 0.006*state + 0.005*forces + 0.005*police + 0.005*president + 0.005*country + 0.005*security + 0.005*military + 0.004*rebels + 0.004*group + 0.004*rights + 0.004*army + 0.004*ukraine + 0.004*town + 0.004*south + 0.004*border + 0.003*officials + 0.003*human + 0.003*reported + 0.003*wednesday + 0.003*tuesday + 0.003*militants + 0.003*fighting + 0.003*including + 0.003*city + 0.003*political + 0.003*region + 0.003*talks + 0.003*war + 0.003*peace + 0.003*syrian + 0.003*attack + 0.003*international + 0.003*soldiers + 0.003*official + 0.003*eastern + 0.003*week + 0.003*boko + 0.003*told + 0.003*haram + 0.003*syria + 0.003*troops + 0.003*rebel + 0.003*attacks + 0.002*thursday + 0.002*conflict + 0.002*capital + 0.002*armed + 0.002*local + 0.002*civilians + 0.002*fighters + 0.002*northern + 0.002*statement + 0.002*friday + 0.002*north + 0.002*opposition + 0.002*groups + 0.002*year + 0.002*monday + 0.002*area + 0.002*ukrainian + 0.002*violence + 0.002*china + 0.002*control + 0.002*east + 0.002*sudan + 0.002*days + 0.002*members + 0.002*report + 0.002*province + 0.002*ministry + 0.002*russia + 0.002*parliament + 0.002*islamic + 0.002*dead + 0.002*authorities + 0.002*minister + 0.002*agency + 0.002*leader\n",
        "\n",
        "topic #4: 0.013*children + 0.008*million + 0.006*aid + 0.006*food + 0.005*year + 0.005*state + 0.004*humanitarian + 0.004*unicef + 0.004*refugees + 0.004*border + 0.004*water + 0.004*country + 0.003*areas + 0.003*iraq + 0.003*displaced + 0.003*number + 0.003*syria + 0.003*years + 0.003*city + 0.003*south + 0.003*thousands + 0.003*report + 0.003*countries + 0.003*women + 0.003*homes + 0.003*families + 0.003*ukraine + 0.003*affected + 0.003*region + 0.002*percent + 0.002*emergency + 0.002*north + 0.002*officials + 0.002*wednesday + 0.002*sudan + 0.002*syrian + 0.002*group + 0.002*floods + 0.002*government + 0.002*heavy + 0.002*including + 0.002*conflict + 0.002*fighting + 0.002*forced + 0.002*eastern + 0.002*reported + 0.002*child + 0.002*tuesday + 0.002*living + 0.002*due + 0.002*unhcr + 0.002*violence + 0.002*population + 0.002*risk + 0.002*military + 0.002*russian + 0.002*rains + 0.002*half + 0.002*schools + 0.002*situation + 0.002*refugee + 0.002*days + 0.002*caused + 0.002*december + 0.002*services + 0.002*august + 0.002*told + 0.002*expected + 0.002*girls + 0.002*billion + 0.002*agencies + 0.002*official + 0.002*deaths + 0.002*week + 0.002*supplies + 0.002*access + 0.002*june + 0.002*storm + 0.002*assistance + 0.002*typhoon\n",
        "\n",
        "topic #5: 0.050*liberian + 0.048*government + 0.040*ebola + 0.030*president + 0.026*meeting + 0.026*treat + 0.026*experimental + 0.026*treatments + 0.024*receive + 0.024*medical + 0.024*met + 0.024*geneva + 0.023*move + 0.023*drug + 0.023*zmapp + 0.022*sirleaf + 0.022*explore + 0.022*untested + 0.022*ethics + 0.021*world + 0.021*health + 0.020*africa + 0.020*west + 0.019*organization + 0.010*liberia + 0.008*news + 0.004*died + 0.003*possibly + 0.003*probable + 0.002*infected + 0.001*work + 0.001*sanctions + 0.001*election + 0.001*bill + 0.001*labour + 0.001*abdullah + 0.001*vote + 0.001*venezuelan + 0.001*venezuela + 0.001*international + 0.001*doctor + 0.001*nigeria + 0.001*ellen + 0.001*karzai + 0.001*accepted + 0.001*genocide + 0.001*child + 0.001*presidential + 0.001*bentiu + 0.001*effective + 0.001*sexual + 0.000*eu + 0.000*rights + 0.000*ukraine + 0.000*senate + 0.000*bolivia + 0.000*america + 0.000*bbc + 0.000*convicted + 0.000*metric + 0.000*patients + 0.000*economy + 0.000*essebsi + 0.000*financial + 0.000*system + 0.000*trafficking + 0.000*case + 0.000*human + 0.000*treatment + 0.000*latin + 0.000*buffer + 0.000*quarantined + 0.000*imf + 0.000*persons + 0.000*budget + 0.000*fm + 0.000*committee + 0.000*hamid + 0.000*senators + 0.000*crime\n",
        "\n"
       ]
      }
     ],
     "prompt_number": 136
    },
    {
     "cell_type": "code",
     "collapsed": false,
     "input": [
      "story_id=2\n",
      "print df.story.values[story_id]\n",
      "print lda[corpus[story_id]]\n"
     ],
     "language": "python",
     "metadata": {},
     "outputs": [
      {
       "output_type": "stream",
       "stream": "stdout",
       "text": [
        "Officials in Bosnia and Serbia say floods that killed scores and displaced half a million will cost countries billions.  The cost of the recovery operation following devastating floods in the Balkans may amount to billions of dollars. Both Bosnia and Serbia said they will need international help, as EU and NATO officials visited affected areas on Wednesday to estimate damage.\n",
        "[(3, 0.60552611031041925), (4, 0.3747365169692265)]\n"
       ]
      }
     ],
     "prompt_number": 137
    },
    {
     "cell_type": "code",
     "collapsed": false,
     "input": [],
     "language": "python",
     "metadata": {},
     "outputs": []
    }
   ],
   "metadata": {}
  }
 ]
}