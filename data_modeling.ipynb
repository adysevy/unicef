{
 "metadata": {
  "name": "",
  "signature": "sha256:4c645d95157b7ab059ba49da1b872acc8f5dcb34178b2261a8e9e1bd2e74efbb"
 },
 "nbformat": 3,
 "nbformat_minor": 0,
 "worksheets": [
  {
   "cells": [
    {
     "cell_type": "code",
     "collapsed": false,
     "input": [
      "# -*- coding: utf-8 -*-\n",
      "\n",
      "import os\n",
      "from docx import Document\n",
      "from datetime import datetime\n",
      "\n",
      "dates = []\n",
      "file_names = []\n",
      "countries = []\n",
      "regions = []\n",
      "stories = []\n",
      "titles = []\n",
      "links = []\n",
      "\n",
      "regions_codes = {'GENERAL':'General',\\\n",
      "                 'CEE/CIS':'Central and Eastern Europe and the Commonwealth of Independent States',\\\n",
      "                 'EAP':'East Asia and Pacific',\\\n",
      "                 'EAPR':'East Asia and Pacific',\\\n",
      "                 'ESA':'Eastern and Southern Africa',\\\n",
      "                 'LAC':'Latin America and the Caribbean',\\\n",
      "                 'MENA':'Middle East and North Africa',\\\n",
      "                 'ROSA':'South Asia',\\\n",
      "                 'WCA':'West and Central Africa',\\\n",
      "                 'SA':'South Asia'}\n",
      "\n",
      "folder = 'OPSCEN Brief 2014/'\n",
      "# folder = 'test/'\n",
      "\n",
      "special_files = ['UNICEF OPSCEN Brief \u2013 29 December 2014.docx','UNICEF OPSCEN Brief \u2013 30 December 2014.docx','UNICEF OPSCEN Brief \u2013 31 December 2014.docx']\n",
      "\n",
      "flag_country = False\n",
      "flag_title = False\n",
      "flag_story = False\n",
      "curr_story = ''\n",
      "      \n",
      "for file_name in os.listdir(folder):\n",
      "    try:\n",
      "        f = open(folder+file_name,'r')\n",
      "        document = Document(f)\n",
      "        for p in document.paragraphs:\n",
      "            \n",
      "            if p.text == '' or 'Disclaimer:' in p.text or 'The Brief is produced' in p.text:\n",
      "                    continue\n",
      "\n",
      "            if p.text in regions_codes:\n",
      "                curr_region = regions_codes[p.text]\n",
      "                flag_country = True\n",
      "                continue\n",
      "                \n",
      "            if 'http' in p.text:\n",
      "                regions.append(curr_region)\n",
      "                countries.append(curr_country)\n",
      "                titles.append(curr_title)\n",
      "                stories.append(curr_story)\n",
      "                file_names.append(file_name)\n",
      "                if file_name == 'UNICEF OPSCEN Brief \u2013 29 December 2014.docx':\n",
      "                    date = datetime(year=2014, month=12, day=29)\n",
      "                elif file_name == 'UNICEF OPSCEN Brief \u2013 30 December 2014.docx': \n",
      "                    date = datetime(year=2014, month=12, day=30)\n",
      "                elif file_name == 'UNICEF OPSCEN Brief \u2013 31 December 2014.docx':\n",
      "                    date = datetime(year=2014, month=12, day=31)\n",
      "                else:\n",
      "                    date = document.core_properties.modified\n",
      "\n",
      "                dates.append(date)\n",
      "                links.append(p.text)\n",
      "                flag_country = True\n",
      "                flag_title = False\n",
      "                curr_story = ''\n",
      "                continue\n",
      "                \n",
      "            if flag_country:\n",
      "                if len(p.text.split())< 4:\n",
      "                    curr_country = p.text\n",
      "                    flag_country = False\n",
      "                    flag_title = True\n",
      "                    continue\n",
      "                else:\n",
      "                    flag_country = False\n",
      "                    flag_title = True\n",
      "\n",
      "            if flag_title:\n",
      "                curr_title = p.text\n",
      "                flag_title = False\n",
      "                flag_story = True\n",
      "                continue\n",
      "                \n",
      "            if flag_story:\n",
      "                curr_story = curr_story + p.text\n",
      "                continue\n",
      "\n",
      "\n",
      "    except:\n",
      "        print \"Could not process file: \" + file_name\n",
      "\n",
      "    f.close()"
     ],
     "language": "python",
     "metadata": {},
     "outputs": [],
     "prompt_number": 7
    },
    {
     "cell_type": "code",
     "collapsed": false,
     "input": [
      "import pandas as pd\n",
      "\n",
      "df = pd.DataFrame({'region':regions,\\\n",
      "                   'country':countries,\\\n",
      "                   'title': titles ,\\\n",
      "                   'story':stories,\\\n",
      "                   'link': links,\\\n",
      "                   'file_name':file_names,\\\n",
      "                   'date':dates})\n"
     ],
     "language": "python",
     "metadata": {},
     "outputs": [],
     "prompt_number": 8
    },
    {
     "cell_type": "code",
     "collapsed": false,
     "input": [
      "from ner import extract_entities\n",
      "# df['entities'] = df.story.apply(extract_entities)\n",
      "df.head(5).story.apply(extract_entities)"
     ],
     "language": "python",
     "metadata": {},
     "outputs": [
      {
       "metadata": {},
       "output_type": "pyout",
       "prompt_number": 10,
       "text": [
        "0    set([(Liberia, LOCATION), (Somalia, LOCATION),...\n",
        "1    set([(Coca-Cola, ORGANIZATION), (Pepsi, ORGANI...\n",
        "2    set([(Serbia, LOCATION), (EU, ORGANIZATION), (...\n",
        "3                        set([(UNICEF, ORGANIZATION)])\n",
        "4    set([(Tajikistan, LOCATION), (Gorno-Badakhshan...\n",
        "Name: story, dtype: object"
       ]
      }
     ],
     "prompt_number": 10
    },
    {
     "cell_type": "code",
     "collapsed": false,
     "input": [
      "df.link.unique()"
     ],
     "language": "python",
     "metadata": {},
     "outputs": [
      {
       "metadata": {},
       "output_type": "pyout",
       "prompt_number": 13,
       "text": [
        "array([ u'Reuters - http://www.trust.org/item/20140521041625-5i9hy/?source=fiOtherNews3 ',\n",
        "       u'Reuters - http://www.trust.org/item/20140521110131-di0qy/?source=fiOtherNews3',\n",
        "       u'http://www.aljazeera.com/news/europe/2014/05/balkan-flood-devastation-exceeds-war-damage-2014521143138991821.html',\n",
        "       ...,\n",
        "       u'Reuters - http://www.reuters.com/article/2014/08/11/us-centralafrica-seleka-idUSKBN0GB1MG20140811',\n",
        "       u'AFP - http://news.yahoo.com/c-africa-pm-vows-reconciliation-despite-rebel-snub-191543761.html',\n",
        "       u'BBC - http://www.bbc.com/news/world-africa-28749615'], dtype=object)"
       ]
      }
     ],
     "prompt_number": 13
    },
    {
     "cell_type": "code",
     "collapsed": false,
     "input": [
      "df.country.unique()"
     ],
     "language": "python",
     "metadata": {},
     "outputs": [
      {
       "metadata": {},
       "output_type": "pyout",
       "prompt_number": 14,
       "text": [
        "array([u'Across Regions ', u'Across CEE/CIS', u'Serbia', u'Tajikistan',\n",
        "       u'Turkey', u'Ukraine ', u'Across EAPR', u'China', u'Myanmar',\n",
        "       u'Thailand', u'Kenya', u'Malawi', u'Venezuela ', u'Egypt', u'Libya',\n",
        "       u'State of Palestine', u'Syria', u'Across ROSA', u'Afghanistan',\n",
        "       u'India', u'Pakistan', u'Mali', u'Nigeria', u'Across Regions',\n",
        "       u'Ukraine', u'Across EAP', u'Phillipines', u'Across LAC',\n",
        "       u'Bolivia', u'Brazil', u'Mexico', u'Across MENA',\n",
        "       u'State of Palestine/Israel', u'Iraq', u'Tunisia', u'            ',\n",
        "       u' ', u'Across WCA', u'Liberia', u'Across region', u'Bulgaria',\n",
        "       u'Papua New-Guinea', u'Philippines', u'South Sudan', u'Uganda',\n",
        "       u'Colombia', u'Iran', u'Lebanon', u'Nepal', u'Sri Lanka',\n",
        "       u'Mauritania', u'Serbia/Kosovo', u'Philippines ', u'Burundi',\n",
        "       u'Mozambique', u'South Sudan ', u'Haiti', u'Burkina Faso', u'CAR',\n",
        "       u'DRC', u'Niger', u'DR Congo/Rwanda', u'Ethiopia', u'Rwanda',\n",
        "       u'Somalia', u'Swaziland', u'El Salvador', u'Guyana', u'Paraguay',\n",
        "       u'Sudan', u'DR Congo', u'Guatemala', u'Algeria', u'Uganda ',\n",
        "       u'Gambia', u'\\nEAP', u'Madagascar', u'Venezuela', u'Israel',\n",
        "       u'Jordan', u'Yemen', u'Cameroon', u'Peru', u'Across SA',\n",
        "       u'Nicaragua', u'Central African Republic', u'Senegal',\n",
        "       u'Bosnia-Herzegovina ', u'Russia', u'ESAR', u'Saudi Arabia',\n",
        "       u'Pakistan ', u'WCAR', u'Across Region', u'Guinea',\n",
        "       u'South Sudan/Sudan', u'Cambodia', u'Indonesia', u'Across ESA',\n",
        "       u'Chile', u'Yemen ', u'Laos', u'Solomon Islands',\n",
        "       u'Dominican Republic', u'Myanmar ', u'Argentina', u'Afghanistan ',\n",
        "       u'CAR ', u'PNG', u'Egypt ', u'Bosnia Herzegovina', u'Zambia',\n",
        "       u'Sierra Leone', u'Ethiopia ', u'Lesotho', u'Mozambique ',\n",
        "       u'Nigeria ', u'EAP\\n', u'DPRK', u'Zimbabwe', u'Barbados',\n",
        "       u'Israel/State of Palestine', u'Cote d\\u2019Ivoire', u'Tanzania',\n",
        "       u'Bangladesh', u'Malaysia', u'Bulgaria ', u'Across MENA ',\n",
        "       u'Israel ', u'Botswana', u'Brazil ', u'Uruguay', u'Jerusalem',\n",
        "       u'Tunisia ', u'Benin', u'Ghana', u'Ecuador', u'DR Congo ', u'\\t',\n",
        "       u'Kuwait', u'Morocco', u'WCA\\n', u'Lao DPR', u'Solomon Islands ',\n",
        "       u'South Africa', u'Dominican Republic ', u'Guyana ', u'\\nLibya',\n",
        "       u'\\nROSA', u'United Nations', u'Bosnia and Herzegovina',\n",
        "       u'Uzbekistan ', u'DPR Korea', u'Bahrain', u'Across WAC', u'Namibia',\n",
        "       u'Zambia ', u'Cape Verde ', u'\\nAcross MENA',\n",
        "       u'Burying Ebola\\u2019s victims', u'Bosnia-Herzegovina',\n",
        "       u'Guinea-Bissau', u'Algeria ', u'Cuba', u'Maldives', u'\\nDR Congo',\n",
        "       u'Georgia', u'Romania', u'Lebanon ', u'CEE/ CIS', u'Serbia ',\n",
        "       u'Across CEE/CIS ', u'Macedonia', u'Honduras', u'  ',\n",
        "       u'Bosnia & Herzegovina', u'Indonasia', u'\\nESA', u'Togo', u'\\n',\n",
        "       u'Burundi/CAR', u'\\nYemen', u'Across WAC ', u'Across WCA ',\n",
        "       u'Vietnam', u'Guatemala ', u'WCAR\\n', u'Benin ', u'Fiji',\n",
        "       u'Mexico ', u'Japan', u'\\nState of Palestine', u'Libya ',\n",
        "       u'Equatorial Guinea', u'Romania ', u'Saudi Arabia ',\n",
        "       u'Somalia No title ', u'Brazil   No title ', u'No title', u'ESA\\n',\n",
        "       u'Madagascar ', u'\\nMENA', u'Sri Lanka ', u'Saudia Arabia',\n",
        "       u'\\nWCA', u'Panama', u'\\nCEE/CIS', u'Kyrgyzstan', u'Burkina Faso ',\n",
        "       u'Across LAC ', u'Iraq ', u'Crimea enforced disappearances',\n",
        "       u'Across regions', u'Japan ', u'Timor Leste', u'Jordan ',\n",
        "       u'Jerusalem/State of Palestine', u'India/Pakistan', u'Moldova ',\n",
        "       u'\\nAfghanistan', u'United Nations ', u'Moldova', u'Bahamas',\n",
        "       u'Jamaica', u'Across EAP ', u'\\nSudan/S. Sudan',\n",
        "       u'Bosnia & Herzegovina ', u'\\nCAR', u'Syria ', u'Tanzania ',\n",
        "       u'El Salvador ', u'Cambodia ', u'Djibouti', u'SA\\n', u'Cameroon ',\n",
        "       u'Somalia ', u'State Palestine/Israel ', u'India ', u'Liberia ',\n",
        "       u'DRAFT', u'Across West Africa', u'Gabon ', u'Sierra Leone ',\n",
        "       u'Uzbekistan', u'Colombia ', u'Belarus', u'Acrosa ESA', u'\\nEgypt ',\n",
        "       u'Bangladesh ', u'State of Palestine/Israel  ', u'Iraq\\t', u'EAP '], dtype=object)"
       ]
      }
     ],
     "prompt_number": 14
    },
    {
     "cell_type": "code",
     "collapsed": false,
     "input": [
      "df.region.unique()"
     ],
     "language": "python",
     "metadata": {},
     "outputs": [
      {
       "metadata": {},
       "output_type": "pyout",
       "prompt_number": 15,
       "text": [
        "array(['General',\n",
        "       'Central and Eastern Europe and the Commonwealth of Independent States',\n",
        "       'East Asia and Pacific', 'Eastern and Southern Africa',\n",
        "       'Latin America and the Caribbean', 'Middle East and North Africa',\n",
        "       'South Asia', 'West and Central Africa'], dtype=object)"
       ]
      }
     ],
     "prompt_number": 15
    },
    {
     "cell_type": "code",
     "collapsed": false,
     "input": [
      "df.to_csv('news_stories.csv', index = True, header = True, encoding='utf-8')"
     ],
     "language": "python",
     "metadata": {},
     "outputs": [],
     "prompt_number": 18
    }
   ],
   "metadata": {}
  }
 ]
}