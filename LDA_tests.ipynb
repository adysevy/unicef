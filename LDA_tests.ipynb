{
 "metadata": {
  "name": "",
  "signature": "sha256:993f695a98f80d4a0bddbb37ab7e54de228a846339703980ede6e9b27ef070bb"
 },
 "nbformat": 3,
 "nbformat_minor": 0,
 "worksheets": [
  {
   "cells": [
    {
     "cell_type": "code",
     "collapsed": false,
     "input": [
      "import pandas as pd\n",
      "\n",
      "#************* LDA *****************#\n",
      "from gensim import corpora, models, similarities\n",
      "from nltk import word_tokenize\n",
      "import re\n"
     ],
     "language": "python",
     "metadata": {},
     "outputs": [],
     "prompt_number": 2
    },
    {
     "cell_type": "code",
     "collapsed": false,
     "input": [
      "lda = models.LdaModel.load('5topics.model')"
     ],
     "language": "python",
     "metadata": {},
     "outputs": [],
     "prompt_number": 3
    },
    {
     "cell_type": "code",
     "collapsed": false,
     "input": [
      "for i,s in enumerate(lda.print_topics(10,num_words=80)):\n",
      "    print 'topic #{0}: {1}'.format(i,s)\n",
      "    print"
     ],
     "language": "python",
     "metadata": {},
     "outputs": [
      {
       "output_type": "stream",
       "stream": "stdout",
       "text": [
        "topic #0: 0.027*specialists + 0.023*johnson + 0.014*ellen + 0.014*sirleaf + 0.010*children + 0.010*government + 0.009*health + 0.009*ebola + 0.008*possibly + 0.008*probable + 0.005*world + 0.005*africa + 0.005*west + 0.005*meeting + 0.004*president + 0.004*unicef + 0.004*virus + 0.003*died + 0.003*countries + 0.003*polio + 0.003*nigeria + 0.003*updated + 0.003*request + 0.003*women + 0.003*report + 0.003*girls + 0.003*million + 0.003*child + 0.003*news + 0.003*reported + 0.002*affected + 0.002*case + 0.002*workers + 0.002*authorities + 0.002*officials + 0.002*medical + 0.002*water + 0.002*state + 0.002*emergency + 0.002*liberia + 0.002*organization + 0.002*international + 0.002*met + 0.002*spread + 0.002*global + 0.002*liberian + 0.002*found + 0.002*families + 0.002*earlier + 0.002*disease + 0.002*region + 0.002*cases + 0.002*months + 0.002*development + 0.002*sexual + 0.002*high + 0.002*started + 0.001*education + 0.001*victims + 0.001*sri + 0.001*sierra + 0.001*services + 0.001*confirmed + 0.001*suspected + 0.001*number + 0.001*risk + 0.001*agencies + 0.001*treatment + 0.001*leone + 0.001*food + 0.001*schools + 0.001*outbreak + 0.001*niger + 0.001*rains + 0.001*years + 0.001*ministry + 0.001*including + 0.001*malnutrition + 0.001*deadly + 0.001*response\n",
        "\n",
        "topic #1: 0.043*government + 0.032*prime + 0.032*minister + 0.031*central + 0.030*african + 0.030*republic + 0.022*country + 0.022*violence + 0.022*muslim + 0.021*part + 0.021*monday + 0.021*named + 0.021*mahamat + 0.021*kamoun + 0.021*forming + 0.021*sunday + 0.020*rebels + 0.012*crisis + 0.012*humanitarian + 0.011*security + 0.011*displaced + 0.011*nation + 0.011*ethnic + 0.011*refused + 0.011*religious + 0.011*devastating + 0.011*million + 0.011*premier + 0.011*restoring + 0.011*end + 0.011*vowed + 0.011*guiding + 0.010*reconcile + 0.010*tackling + 0.010*year + 0.010*thousands + 0.010*tasked + 0.010*sectarian + 0.010*torn + 0.010*month + 0.010*elections + 0.010*catherine + 0.010*interim + 0.010*rethink + 0.010*consulted + 0.010*president + 0.009*choice + 0.009*ceasefire + 0.009*bid + 0.009*northern + 0.009*national + 0.008*killed + 0.008*inclusive + 0.008*deal + 0.008*seleka + 0.008*unity + 0.007*priority + 0.001*lebanese + 0.001*lebanon + 0.000*erdogan + 0.000*kerry + 0.000*arsal + 0.000*hezbollah + 0.000*eu + 0.000*draft + 0.000*amnesty + 0.000*john + 0.000*sanctions + 0.000*assad + 0.000*advance + 0.000*carry + 0.000*parliament + 0.000*law + 0.000*international + 0.000*send + 0.000*formal + 0.000*text + 0.000*turkey + 0.000*tayyip + 0.000*refugees\n",
        "\n",
        "topic #2: 0.010*killed + 0.006*state + 0.006*military + 0.006*police + 0.006*forces + 0.006*group + 0.006*security + 0.005*city + 0.005*militants + 0.005*attack + 0.005*border + 0.005*officials + 0.005*ukraine + 0.004*fighting + 0.004*army + 0.004*town + 0.004*tuesday + 0.004*wednesday + 0.004*official + 0.004*including + 0.004*eastern + 0.003*government + 0.003*children + 0.003*attacks + 0.003*syria + 0.003*reported + 0.003*capital + 0.003*gaza + 0.003*region + 0.003*area + 0.003*rights + 0.003*syrian + 0.003*war + 0.003*soldiers + 0.003*north + 0.003*troops + 0.003*told + 0.003*thursday + 0.003*fighters + 0.003*statement + 0.003*israel + 0.003*local + 0.003*civilians + 0.003*country + 0.003*human + 0.003*international + 0.003*conflict + 0.003*iraq + 0.003*south + 0.003*israeli + 0.003*armed + 0.003*week + 0.002*province + 0.002*wounded + 0.002*days + 0.002*rebels + 0.002*palestinian + 0.002*ukrainian + 0.002*dead + 0.002*rebel + 0.002*killing + 0.002*boko + 0.002*haram + 0.002*clashes + 0.002*islamic + 0.002*members + 0.002*russia + 0.002*spokesman + 0.002*friday + 0.002*east + 0.002*air + 0.002*aid + 0.002*fire + 0.002*groups + 0.002*control + 0.002*areas + 0.002*number + 0.002*day + 0.002*agency + 0.002*islamist\n",
        "\n",
        "topic #3: 0.020*consensus + 0.020*samba + 0.020*panza + 0.015*president + 0.013*government + 0.009*minister + 0.009*country + 0.008*year + 0.008*national + 0.008*deal + 0.007*african + 0.007*killed + 0.007*rebels + 0.006*seleka + 0.006*unity + 0.006*central + 0.006*priority + 0.006*million + 0.006*monday + 0.006*northern + 0.006*republic + 0.005*ceasefire + 0.005*prime + 0.005*month + 0.005*end + 0.005*elections + 0.005*talks + 0.004*inclusive + 0.004*thousands + 0.004*south + 0.004*opposition + 0.004*bid + 0.004*peace + 0.004*violence + 0.003*sunday + 0.003*political + 0.003*sudan + 0.003*court + 0.003*interim + 0.002*party + 0.002*choice + 0.002*part + 0.002*food + 0.002*presidential + 0.002*protesters + 0.002*election + 0.002*years + 0.002*parliament + 0.002*farc + 0.002*muslim + 0.002*protests + 0.002*general + 0.002*sectarian + 0.002*colombia + 0.002*rethink + 0.002*consulted + 0.002*catherine + 0.002*police + 0.002*somalia + 0.002*tuesday + 0.002*sudanese + 0.001*leader + 0.001*crisis + 0.001*week + 0.001*negotiations + 0.001*vote + 0.001*leaders + 0.001*displaced + 0.001*tasked + 0.001*security + 0.001*torn + 0.001*accused + 0.001*protest + 0.001*mali + 0.001*agreement + 0.001*ruling + 0.001*union + 0.001*el + 0.001*power + 0.001*drought\n",
        "\n",
        "topic #4: 0.035*died + 0.024*outbreak + 0.024*guinea + 0.024*liberia + 0.023*infected + 0.023*ebola + 0.023*news + 0.022*liberian + 0.022*government + 0.014*cases + 0.013*disease + 0.013*health + 0.012*sierra + 0.012*authorities + 0.012*leone + 0.012*confirmed + 0.012*high + 0.012*hit + 0.012*months + 0.012*monday + 0.012*march + 0.012*figures + 0.012*world + 0.012*release + 0.012*recorded + 0.012*suspected + 0.012*fever + 0.012*medical + 0.012*move + 0.012*nigeria + 0.012*identified + 0.012*organization + 0.012*receive + 0.012*earlier + 0.012*includes + 0.011*geneva + 0.011*tally + 0.011*experimental + 0.011*started + 0.011*drug + 0.011*treatments + 0.011*ethics + 0.011*vomiting + 0.011*west + 0.011*bleeding + 0.011*hosting + 0.011*zmapp + 0.011*treat + 0.011*explore + 0.011*met + 0.011*africa + 0.011*president + 0.011*untested + 0.011*meeting + 0.011*request + 0.010*updated + 0.008*probable + 0.008*possibly + 0.006*sirleaf + 0.005*ellen + 0.001*johnson + 0.001*deaths + 0.001*typhoon + 0.001*virus + 0.001*children + 0.001*cholera + 0.001*msf + 0.001*storm + 0.001*year + 0.001*bosnia + 0.001*total + 0.000*wfp + 0.000*countries + 0.000*percent + 0.000*number + 0.000*vaccine + 0.000*million + 0.000*food + 0.000*ministry + 0.000*south\n",
        "\n"
       ]
      }
     ],
     "prompt_number": 5
    },
    {
     "cell_type": "code",
     "collapsed": false,
     "input": [],
     "language": "python",
     "metadata": {},
     "outputs": []
    }
   ],
   "metadata": {}
  }
 ]
}